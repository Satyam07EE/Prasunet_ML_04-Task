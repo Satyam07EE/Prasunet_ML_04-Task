{
 "cells": [
  {
   "cell_type": "markdown",
   "id": "c155b531-23ea-4f1f-b760-82925b240ebe",
   "metadata": {},
   "source": [
    "PRASUNET\n",
    "\n",
    "Machine Learning \n",
    "\n",
    "TASK 1 : House Price Prediction\n"
   ]
  },
  {
   "cell_type": "code",
   "execution_count": 3,
   "id": "7f842c27-ce3d-4176-91e9-6ff2fa009abc",
   "metadata": {},
   "outputs": [],
   "source": [
    "#importing packages\n",
    "\n",
    "import pandas as pd\n",
    "import numpy as np\n",
    "import matplotlib.pyplot as plt\n",
    "from sklearn.model_selection import train_test_split\n",
    "from sklearn.linear_model import LinearRegression\n",
    "from sklearn.metrics import mean_squared_error"
   ]
  },
  {
   "cell_type": "code",
   "execution_count": 4,
   "id": "228a87c7-59d3-40a5-b741-61cc3212842d",
   "metadata": {},
   "outputs": [
    {
     "name": "stdout",
     "output_type": "stream",
     "text": [
      "            date    price  bedrooms  bathrooms  square_feet  floors  \\\n",
      "0     02-05-2022   313000         5       1.50         1340     1.5   \n",
      "1     02-05-2022  2384000         5       2.50         3650     2.0   \n",
      "2     02-05-2022   342000         5       2.00         1930     1.0   \n",
      "3     02-05-2022   420000         5       2.25         2000     1.0   \n",
      "4     02-05-2022   550000         8       2.50         1940     1.0   \n",
      "...          ...      ...       ...        ...          ...     ...   \n",
      "4595  09-07-2022   308167         5       1.75         1510     1.0   \n",
      "4596  09-07-2022   534333         5       2.50         1460     2.0   \n",
      "4597  09-07-2022   416904         5       2.50         3010     2.0   \n",
      "4598  10-07-2022   203400         8       2.00         2090     1.0   \n",
      "4599  10-07-2022   220600         5       2.50         1490     2.0   \n",
      "\n",
      "      waterfront  view  condition  yr_built  yr_renovated  \\\n",
      "0              0     0          3      1955          2005   \n",
      "1              0     4          5      1921             0   \n",
      "2              0     0          4      1966             0   \n",
      "3              0     0          4      1963             0   \n",
      "4              0     0          4      1976          1992   \n",
      "...          ...   ...        ...       ...           ...   \n",
      "4595           0     0          4      1954          1979   \n",
      "4596           0     0          3      1983          2009   \n",
      "4597           0     0          3      2009             0   \n",
      "4598           0     0          3      1974             0   \n",
      "4599           0     0          4      1990             0   \n",
      "\n",
      "                        street       city  statezip country  \n",
      "0         18810 Densmore Ave N  Shoreline  WA 98133     USA  \n",
      "1              709 W Blaine St    Seattle  WA 98119     USA  \n",
      "2     26206-26214 143rd Ave SE       Kent  WA 98042     USA  \n",
      "3              857 170th Pl NE   Bellevue  WA 98008     USA  \n",
      "4            9105 170th Ave NE    Redmond  WA 98052     USA  \n",
      "...                        ...        ...       ...     ...  \n",
      "4595            501 N 143rd St    Seattle  WA 98133     USA  \n",
      "4596          14855 SE 10th Pl   Bellevue  WA 98007     USA  \n",
      "4597          759 Ilwaco Pl NE     Renton  WA 98059     USA  \n",
      "4598         5148 S Creston St    Seattle  WA 98178     USA  \n",
      "4599         18717 SE 258th St  Covington  WA 98042     USA  \n",
      "\n",
      "[4600 rows x 15 columns]\n"
     ]
    }
   ],
   "source": [
    "#load the dataset\n",
    "\n",
    "data = pd.read_csv('data.csv')\n",
    "print(data)\n",
    "                   "
   ]
  },
  {
   "cell_type": "code",
   "execution_count": 6,
   "id": "51dcab3f-ae22-4447-8cb0-da6cab2ab0f6",
   "metadata": {},
   "outputs": [
    {
     "name": "stdout",
     "output_type": "stream",
     "text": [
      "<bound method DataFrame.info of             date    price  bedrooms  bathrooms  square_feet  floors  \\\n",
      "0     02-05-2022   313000         5       1.50         1340     1.5   \n",
      "1     02-05-2022  2384000         5       2.50         3650     2.0   \n",
      "2     02-05-2022   342000         5       2.00         1930     1.0   \n",
      "3     02-05-2022   420000         5       2.25         2000     1.0   \n",
      "4     02-05-2022   550000         8       2.50         1940     1.0   \n",
      "...          ...      ...       ...        ...          ...     ...   \n",
      "4595  09-07-2022   308167         5       1.75         1510     1.0   \n",
      "4596  09-07-2022   534333         5       2.50         1460     2.0   \n",
      "4597  09-07-2022   416904         5       2.50         3010     2.0   \n",
      "4598  10-07-2022   203400         8       2.00         2090     1.0   \n",
      "4599  10-07-2022   220600         5       2.50         1490     2.0   \n",
      "\n",
      "      waterfront  view  condition  yr_built  yr_renovated  \\\n",
      "0              0     0          3      1955          2005   \n",
      "1              0     4          5      1921             0   \n",
      "2              0     0          4      1966             0   \n",
      "3              0     0          4      1963             0   \n",
      "4              0     0          4      1976          1992   \n",
      "...          ...   ...        ...       ...           ...   \n",
      "4595           0     0          4      1954          1979   \n",
      "4596           0     0          3      1983          2009   \n",
      "4597           0     0          3      2009             0   \n",
      "4598           0     0          3      1974             0   \n",
      "4599           0     0          4      1990             0   \n",
      "\n",
      "                        street       city  statezip country  \n",
      "0         18810 Densmore Ave N  Shoreline  WA 98133     USA  \n",
      "1              709 W Blaine St    Seattle  WA 98119     USA  \n",
      "2     26206-26214 143rd Ave SE       Kent  WA 98042     USA  \n",
      "3              857 170th Pl NE   Bellevue  WA 98008     USA  \n",
      "4            9105 170th Ave NE    Redmond  WA 98052     USA  \n",
      "...                        ...        ...       ...     ...  \n",
      "4595            501 N 143rd St    Seattle  WA 98133     USA  \n",
      "4596          14855 SE 10th Pl   Bellevue  WA 98007     USA  \n",
      "4597          759 Ilwaco Pl NE     Renton  WA 98059     USA  \n",
      "4598         5148 S Creston St    Seattle  WA 98178     USA  \n",
      "4599         18717 SE 258th St  Covington  WA 98042     USA  \n",
      "\n",
      "[4600 rows x 15 columns]>\n"
     ]
    }
   ],
   "source": [
    "# print the data information\n",
    "\n",
    "print(data.info)"
   ]
  },
  {
   "cell_type": "code",
   "execution_count": 8,
   "id": "8016a333-ec97-439a-8746-96eb56e2fbd6",
   "metadata": {},
   "outputs": [],
   "source": [
    "#prepare the data\n",
    "\n",
    "#features\n",
    "x = data[['square_feet','bedrooms']]\n",
    "\n",
    "#target\n",
    "y = data['price']"
   ]
  },
  {
   "cell_type": "code",
   "execution_count": 9,
   "id": "e3f0f8d3-1a2b-476d-9070-58b15101dc3f",
   "metadata": {},
   "outputs": [],
   "source": [
    "#split the data into training and testing sets\n",
    "\n",
    "x_train,x_test,y_train,y_test=train_test_split(x , y ,test_size=0.3 , random_state=50)"
   ]
  },
  {
   "cell_type": "code",
   "execution_count": 10,
   "id": "4476bd41-4bb5-4fce-a9f8-112806c494e9",
   "metadata": {},
   "outputs": [
    {
     "data": {
      "text/html": [
       "<style>#sk-container-id-1 {color: black;}#sk-container-id-1 pre{padding: 0;}#sk-container-id-1 div.sk-toggleable {background-color: white;}#sk-container-id-1 label.sk-toggleable__label {cursor: pointer;display: block;width: 100%;margin-bottom: 0;padding: 0.3em;box-sizing: border-box;text-align: center;}#sk-container-id-1 label.sk-toggleable__label-arrow:before {content: \"▸\";float: left;margin-right: 0.25em;color: #696969;}#sk-container-id-1 label.sk-toggleable__label-arrow:hover:before {color: black;}#sk-container-id-1 div.sk-estimator:hover label.sk-toggleable__label-arrow:before {color: black;}#sk-container-id-1 div.sk-toggleable__content {max-height: 0;max-width: 0;overflow: hidden;text-align: left;background-color: #f0f8ff;}#sk-container-id-1 div.sk-toggleable__content pre {margin: 0.2em;color: black;border-radius: 0.25em;background-color: #f0f8ff;}#sk-container-id-1 input.sk-toggleable__control:checked~div.sk-toggleable__content {max-height: 200px;max-width: 100%;overflow: auto;}#sk-container-id-1 input.sk-toggleable__control:checked~label.sk-toggleable__label-arrow:before {content: \"▾\";}#sk-container-id-1 div.sk-estimator input.sk-toggleable__control:checked~label.sk-toggleable__label {background-color: #d4ebff;}#sk-container-id-1 div.sk-label input.sk-toggleable__control:checked~label.sk-toggleable__label {background-color: #d4ebff;}#sk-container-id-1 input.sk-hidden--visually {border: 0;clip: rect(1px 1px 1px 1px);clip: rect(1px, 1px, 1px, 1px);height: 1px;margin: -1px;overflow: hidden;padding: 0;position: absolute;width: 1px;}#sk-container-id-1 div.sk-estimator {font-family: monospace;background-color: #f0f8ff;border: 1px dotted black;border-radius: 0.25em;box-sizing: border-box;margin-bottom: 0.5em;}#sk-container-id-1 div.sk-estimator:hover {background-color: #d4ebff;}#sk-container-id-1 div.sk-parallel-item::after {content: \"\";width: 100%;border-bottom: 1px solid gray;flex-grow: 1;}#sk-container-id-1 div.sk-label:hover label.sk-toggleable__label {background-color: #d4ebff;}#sk-container-id-1 div.sk-serial::before {content: \"\";position: absolute;border-left: 1px solid gray;box-sizing: border-box;top: 0;bottom: 0;left: 50%;z-index: 0;}#sk-container-id-1 div.sk-serial {display: flex;flex-direction: column;align-items: center;background-color: white;padding-right: 0.2em;padding-left: 0.2em;position: relative;}#sk-container-id-1 div.sk-item {position: relative;z-index: 1;}#sk-container-id-1 div.sk-parallel {display: flex;align-items: stretch;justify-content: center;background-color: white;position: relative;}#sk-container-id-1 div.sk-item::before, #sk-container-id-1 div.sk-parallel-item::before {content: \"\";position: absolute;border-left: 1px solid gray;box-sizing: border-box;top: 0;bottom: 0;left: 50%;z-index: -1;}#sk-container-id-1 div.sk-parallel-item {display: flex;flex-direction: column;z-index: 1;position: relative;background-color: white;}#sk-container-id-1 div.sk-parallel-item:first-child::after {align-self: flex-end;width: 50%;}#sk-container-id-1 div.sk-parallel-item:last-child::after {align-self: flex-start;width: 50%;}#sk-container-id-1 div.sk-parallel-item:only-child::after {width: 0;}#sk-container-id-1 div.sk-dashed-wrapped {border: 1px dashed gray;margin: 0 0.4em 0.5em 0.4em;box-sizing: border-box;padding-bottom: 0.4em;background-color: white;}#sk-container-id-1 div.sk-label label {font-family: monospace;font-weight: bold;display: inline-block;line-height: 1.2em;}#sk-container-id-1 div.sk-label-container {text-align: center;}#sk-container-id-1 div.sk-container {/* jupyter's `normalize.less` sets `[hidden] { display: none; }` but bootstrap.min.css set `[hidden] { display: none !important; }` so we also need the `!important` here to be able to override the default hidden behavior on the sphinx rendered scikit-learn.org. See: https://github.com/scikit-learn/scikit-learn/issues/21755 */display: inline-block !important;position: relative;}#sk-container-id-1 div.sk-text-repr-fallback {display: none;}</style><div id=\"sk-container-id-1\" class=\"sk-top-container\"><div class=\"sk-text-repr-fallback\"><pre>LinearRegression()</pre><b>In a Jupyter environment, please rerun this cell to show the HTML representation or trust the notebook. <br />On GitHub, the HTML representation is unable to render, please try loading this page with nbviewer.org.</b></div><div class=\"sk-container\" hidden><div class=\"sk-item\"><div class=\"sk-estimator sk-toggleable\"><input class=\"sk-toggleable__control sk-hidden--visually\" id=\"sk-estimator-id-1\" type=\"checkbox\" checked><label for=\"sk-estimator-id-1\" class=\"sk-toggleable__label sk-toggleable__label-arrow\">LinearRegression</label><div class=\"sk-toggleable__content\"><pre>LinearRegression()</pre></div></div></div></div></div>"
      ],
      "text/plain": [
       "LinearRegression()"
      ]
     },
     "execution_count": 10,
     "metadata": {},
     "output_type": "execute_result"
    }
   ],
   "source": [
    "#create and train the linear regression model\n",
    "\n",
    "model=LinearRegression()\n",
    "model.fit(x_train , y_train)\n"
   ]
  },
  {
   "cell_type": "code",
   "execution_count": 11,
   "id": "06aae734-d76e-4a28-89d7-b621535f008c",
   "metadata": {},
   "outputs": [
    {
     "name": "stdout",
     "output_type": "stream",
     "text": [
      "[479621.3066806  550478.80255342 422562.95356259 ... 445386.29480979\n",
      " 476302.94350001 754071.98517824]\n",
      "3949    345000\n",
      "230     255000\n",
      "354     538000\n",
      "2736    264950\n",
      "3540    447000\n",
      "         ...  \n",
      "1776    390000\n",
      "1791    830000\n",
      "2099    341000\n",
      "53      284000\n",
      "3857    394500\n",
      "Name: price, Length: 1380, dtype: int64\n"
     ]
    }
   ],
   "source": [
    "#make prediction on the test case\n",
    "\n",
    "y_pred=model.predict(x_test)\n",
    "print(y_pred)\n",
    "print(y_test)"
   ]
  },
  {
   "cell_type": "code",
   "execution_count": 12,
   "id": "f214c012-0435-4512-a868-74981ce44766",
   "metadata": {},
   "outputs": [
    {
     "name": "stdout",
     "output_type": "stream",
     "text": [
      "mean squared error :75186990649.01814\n"
     ]
    }
   ],
   "source": [
    "#calculate mean squared error\n",
    "\n",
    "mse=mean_squared_error(y_test,y_pred)\n",
    "print(f\"mean squared error :{mse}\")\n",
    " \n"
   ]
  },
  {
   "cell_type": "code",
   "execution_count": 13,
   "id": "d7aeaba7-0be7-4bc2-acbe-5117a87c3595",
   "metadata": {},
   "outputs": [
    {
     "data": {
      "image/png": "[encoded data removed]",
      "text/plain": [
       "<Figure size 640x480 with 1 Axes>"
      ]
     },
     "metadata": {},
     "output_type": "display_data"
    }
   ],
   "source": [
    "#visualize the predictions\n",
    "\n",
    "plt.scatter(y_test,y_pred)\n",
    "plt.xlabel(\"Actual Prices\")\n",
    "plt.ylabel(\"Predicted Prices\")\n",
    "plt.title(\"Actual Price V/S Predicted Prices\")\n",
    "plt.show()"
   ]
  },
  {
   "cell_type": "code",
   "execution_count": null,
   "id": "1a1c0c92-8a34-4212-b01b-15c213764313",
   "metadata": {},
   "outputs": [],
   "source": []
  }
 ],
 "metadata": {
  "kernelspec": {
   "display_name": "Python 3 (ipykernel)",
   "language": "python",
   "name": "python3"
  },
  "language_info": {
   "codemirror_mode": {
    "name": "ipython",
    "version": 3
   },
   "file_extension": ".py",
   "mimetype": "text/x-python",
   "name": "python",
   "nbconvert_exporter": "python",
   "pygments_lexer": "ipython3",
   "version": "3.11.4"
  }
 },
 "nbformat": 4,
 "nbformat_minor": 5
}
